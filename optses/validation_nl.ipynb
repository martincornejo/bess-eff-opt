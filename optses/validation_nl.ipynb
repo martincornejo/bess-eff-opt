{
   "cells": [
      {
         "cell_type": "code",
         "execution_count": null,
         "metadata": {},
         "outputs": [],
         "source": [
            "%load_ext autoreload\n",
            "%autoreload 2"
         ]
      },
      {
         "cell_type": "code",
         "execution_count": null,
         "metadata": {},
         "outputs": [],
         "source": [
            "from datetime import timedelta\n",
            "\n",
            "import numpy as np\n",
            "import pandas as pd\n",
            "\n",
            "import pyomo.environ as opt\n",
            "\n",
            "import plotly.graph_objects as go\n",
            "from plotly.subplots import make_subplots\n",
            "\n",
            "from mpc import build_non_linear_optimizer, simses_factory, load_price_timeseries"
         ]
      },
      {
         "cell_type": "code",
         "execution_count": null,
         "metadata": {},
         "outputs": [],
         "source": [
            "pd.options.plotting.backend = \"plotly\"\n",
            "template = \"plotly_dark\""
         ]
      },
      {
         "cell_type": "code",
         "execution_count": null,
         "metadata": {},
         "outputs": [],
         "source": [
            "price = load_price_timeseries(\"../data/intraday_prices/electricity_prices_germany_2021.csv\")\n",
            "price = price.loc[\"2021-01-01\":\"2021-01-07\"]\n",
            "# price = price.resample(\"5min\").ffill()"
         ]
      },
      {
         "cell_type": "code",
         "execution_count": null,
         "metadata": {},
         "outputs": [],
         "source": [
            "def recover_ecm(model):\n",
            "    return pd.DataFrame(\n",
            "        data={\n",
            "            \"power\": np.array([opt.value(model.bess.power[t]) for t in model.time]),\n",
            "            \"power_dc\": np.array([opt.value(model.bess.power_dc[t]) for t in model.time]),\n",
            "            \"soc\": np.array([opt.value(model.bess.soc[t]) for t in model.time]),\n",
            "            \"i\": np.array([opt.value(model.bess.i[t]) for t in model.time]),\n",
            "            \"v\": np.array([opt.value(model.bess.v[t]) for t in model.time]),\n",
            "            \"ocv\": np.array([opt.value(model.bess.ocv[t]) for t in model.time]),\n",
            "        }\n",
            "    )"
         ]
      },
      {
         "cell_type": "code",
         "execution_count": null,
         "metadata": {},
         "outputs": [],
         "source": [
            "opt_nl = build_non_linear_optimizer(price, max_fec=2*7)\n",
            "opt_nl.solve({\"bess\":{\"soc_start\": 0.0}})\n",
            "res_opt = recover_ecm(opt_nl.model)\n",
            "res_opt.index = price.index\n",
            "res_opt"
         ]
      },
      {
         "cell_type": "code",
         "execution_count": null,
         "metadata": {},
         "outputs": [],
         "source": [
            "def simulate_results(res):\n",
            "    sim = simses_factory(start_soc=0.0)\n",
            "    sim_steps = int(900/60)\n",
            "    r = opt.value(opt_nl.model.bess.r)\n",
            "\n",
            "    df = pd.DataFrame()\n",
            "\n",
            "    for t in res.index:\n",
            "        power_opt = np.round(res.loc[t, \"power\"])\n",
            "        power_dc_opt = res.loc[t, \"power_dc\"]\n",
            "        i_opt = res.loc[t, \"i\"]\n",
            "        soc_opt = res.loc[t, \"soc\"]\n",
            "\n",
            "        converter_losses_opt = power_opt - power_dc_opt\n",
            "        battery_losses_opt = r * i_opt ** 2\n",
            "\n",
            "        for step in range(sim_steps):\n",
            "            time = t + (step * timedelta(seconds=60))\n",
            "            sim.update(power_setpoint=power_opt, dt=60)\n",
            "\n",
            "            soc_sim = sim.storage.state.soc\n",
            "            power_sim = sim.state.power\n",
            "            converter_losses = sim.state.loss\n",
            "            battery_losses = sim.storage.state.loss\n",
            "\n",
            "            data = {\n",
            "                \"soc_opt\": soc_opt,\n",
            "                \"soc_sim\": soc_sim,\n",
            "                \"power_opt\": power_opt,\n",
            "                \"power_sim\": power_sim,\n",
            "                \"converter_losses\": converter_losses,\n",
            "                \"battery_losses\": battery_losses,\n",
            "                \"converter_losses_opt\": converter_losses_opt,\n",
            "                \"battery_losses_opt\": battery_losses_opt,\n",
            "            }\n",
            "            df = pd.concat([df, pd.DataFrame(index=[time], data=[data])])\n",
            "\n",
            "\n",
            "    return df"
         ]
      },
      {
         "cell_type": "code",
         "execution_count": null,
         "metadata": {},
         "outputs": [],
         "source": [
            "df = simulate_results(res_opt)"
         ]
      },
      {
         "cell_type": "code",
         "execution_count": null,
         "metadata": {},
         "outputs": [],
         "source": [
            "df[[\"battery_losses\", \"battery_losses_opt\"]].sum()"
         ]
      },
      {
         "cell_type": "code",
         "execution_count": null,
         "metadata": {},
         "outputs": [],
         "source": [
            "df[[\"battery_losses\", \"battery_losses_opt\"]].plot(template=template)"
         ]
      },
      {
         "cell_type": "code",
         "execution_count": null,
         "metadata": {},
         "outputs": [],
         "source": [
            "# df[[\"power_opt\", \"power_sim\"]].plot(template=template)\n",
            "df[[\"soc_opt\", \"soc_sim\"]].plot(template=template)"
         ]
      },
      {
         "cell_type": "code",
         "execution_count": null,
         "metadata": {},
         "outputs": [],
         "source": [
            "# (df[\"power_opt\"] - df[\"power_sim\"]).plot(template=template)"
         ]
      },
      {
         "cell_type": "code",
         "execution_count": null,
         "metadata": {},
         "outputs": [],
         "source": [
            "# fig = make_subplots()"
         ]
      },
      {
         "cell_type": "code",
         "execution_count": null,
         "metadata": {},
         "outputs": [],
         "source": []
      }
   ],
   "metadata": {
      "kernelspec": {
         "display_name": "Python 3",
         "language": "python",
         "name": "python3"
      },
      "language_info": {
         "codemirror_mode": {
            "name": "ipython",
            "version": 3
         },
         "file_extension": ".py",
         "mimetype": "text/x-python",
         "name": "python",
         "nbconvert_exporter": "python",
         "pygments_lexer": "ipython3",
         "version": "3.13.2"
      }
   },
   "nbformat": 4,
   "nbformat_minor": 2
}