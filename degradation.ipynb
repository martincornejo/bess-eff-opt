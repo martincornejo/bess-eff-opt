{
 "cells": [
  {
   "cell_type": "code",
   "execution_count": 1,
   "metadata": {},
   "outputs": [],
   "source": [
    "import os\n",
    "import re\n",
    "\n",
    "import pandas as pd\n",
    "import numpy as np\n",
    "\n",
    "import matplotlib.pyplot as plt\n",
    "\n",
    "import plotly.graph_objects as go\n",
    "from plotly.subplots import make_subplots"
   ]
  },
  {
   "cell_type": "code",
   "execution_count": 2,
   "metadata": {},
   "outputs": [],
   "source": [
    "def load_price_timeseries(file: str) -> pd.Series:\n",
    "    df = pd.read_csv(file)\n",
    "    df.index = pd.to_datetime(df[\"Date\"], format=\"%d/%m/%Y %H:%M\")\n",
    "    return df[\"Intraday Continuous 15 minutes ID1-Price\"]  # * 1e-6 # €/MWh -> €/Wh"
   ]
  },
  {
   "cell_type": "code",
   "execution_count": 3,
   "metadata": {},
   "outputs": [],
   "source": [
    "def load_results(dir):\n",
    "    res = {}\n",
    "    files = [f for f in os.listdir(dir) if f.endswith(\".parquet\")]\n",
    "    for file in files:\n",
    "        name, _ = os.path.splitext(file)\n",
    "        res[name] = pd.read_parquet(dir + file)\n",
    "\n",
    "    return res"
   ]
  },
  {
   "cell_type": "code",
   "execution_count": 4,
   "metadata": {},
   "outputs": [],
   "source": [
    "def exctract_value(string, key):\n",
    "    match = re.search(fr\"{key}=([\\d.]+)\", string)\n",
    "    if match:\n",
    "        value = match.group(1)\n",
    "    return float(value)"
   ]
  },
  {
   "cell_type": "code",
   "execution_count": 5,
   "metadata": {},
   "outputs": [],
   "source": [
    "def calc_fec(df):\n",
    "    power = df[\"power_sim\"]\n",
    "    power_pos = power[power > 0].sum() * (1 / 60)\n",
    "    power_neg = power[power < 0].abs().sum() * (1 / 60)\n",
    "    return (power_pos + power_neg) / 2 / 180e3"
   ]
  },
  {
   "cell_type": "code",
   "execution_count": 6,
   "metadata": {},
   "outputs": [],
   "source": [
    "def calc_roundtrip_efficiency(res):\n",
    "    p = res[\"power_sim\"]\n",
    "    e_pos = p[p > 0].abs().sum() * (1 / 60)  # Wh\n",
    "    e_neg = p[p < 0].abs().sum() * (1 / 60)  # Wh\n",
    "\n",
    "    delta_soc = res[\"soc_sim\"].iloc[-1] - res[\"soc_sim\"].iloc[0]\n",
    "    delta_e = delta_soc * 180e3  # Wh\n",
    "\n",
    "    return abs(e_neg) / (e_pos - delta_e)"
   ]
  },
  {
   "cell_type": "code",
   "execution_count": 7,
   "metadata": {},
   "outputs": [],
   "source": [
    "def calc_revenue(df, price):\n",
    "    price = price.resample(\"1Min\").ffill()\n",
    "    df = df.join(price)\n",
    "    return -1 * sum(df[\"power_sim\"] * df[\"Intraday Continuous 15 minutes ID1-Price\"]) * (1/60) * 1e-6  # W -> MWh"
   ]
  },
  {
   "cell_type": "code",
   "execution_count": 18,
   "metadata": {},
   "outputs": [],
   "source": [
    "def analyse_results_lp(res, price):\n",
    "    out = pd.DataFrame()\n",
    "    for (id, df) in res.items():\n",
    "        if \"LP\" in id:\n",
    "            data = dict(\n",
    "                r = exctract_value(id, \"r\"),\n",
    "                eff = exctract_value(id, \"eff\"),\n",
    "                rev = calc_revenue(df, price),\n",
    "                throughput = calc_fec(df),\n",
    "                rountrip_eff = calc_roundtrip_efficiency(df),\n",
    "            )\n",
    "            out = pd.concat([out, pd.DataFrame(data=[data])])\n",
    "\n",
    "    return out"
   ]
  },
  {
   "cell_type": "code",
   "execution_count": 19,
   "metadata": {},
   "outputs": [],
   "source": [
    "def analyse_results_nl(res, price):\n",
    "    out = pd.DataFrame()\n",
    "    for (id, df) in res.items():\n",
    "        if \"NL\" in id:\n",
    "            data = dict(\n",
    "                r = exctract_value(id, \"r\"),\n",
    "                r_opt = exctract_value(id, \"r_opt\"),\n",
    "                rev = calc_revenue(df, price),\n",
    "                throughput = calc_fec(df),\n",
    "                rountrip_eff = calc_roundtrip_efficiency(df),\n",
    "            )\n",
    "            out = pd.concat([out, pd.DataFrame(data=[data])])\n",
    "\n",
    "    return out"
   ]
  },
  {
   "cell_type": "code",
   "execution_count": 33,
   "metadata": {},
   "outputs": [],
   "source": [
    "def plot_trading_power(res, price):\n",
    "    fig, ax = plt.subplots(2, 2, height_ratios=[1, 3], width_ratios=[3, 1])\n",
    "\n",
    "    df = res.join(price)\n",
    "    power = df[\"power_sim\"] / 100e3\n",
    "    price = df[\"Intraday Continuous 15 minutes ID1-Price\"]\n",
    "\n",
    "    idx = power > 0\n",
    "    # ax.scatter(price.loc[idx], power.loc[idx])\n",
    "    ax[1, 0].scatter(power.loc[idx], price.loc[idx], alpha=0.5)\n",
    "    ax[0, 0].hist(power.loc[idx], alpha=0.5, label=\"Charge\")\n",
    "    ax[1, 1].hist(price.loc[idx], orientation=\"horizontal\", alpha=0.5)\n",
    "\n",
    "    idx = power < 0\n",
    "    # ax.scatter(price.loc[idx], power.loc[idx])\n",
    "    ax[1, 0].scatter(power.loc[idx], price.loc[idx], alpha=0.5)\n",
    "    ax[0, 0].hist(power.loc[idx], alpha=0.5, label=\"Discharge\")\n",
    "    ax[1, 1].hist(price.loc[idx], orientation=\"horizontal\", alpha=0.5)\n",
    "\n",
    "    ax[0, 1].set_visible(False)\n",
    "    ax[0, 0].xaxis.set_visible(False)\n",
    "    ax[1, 1].yaxis.set_visible(False)\n",
    "\n",
    "    # ax[0,0].set_ylabel(\"Hist\")\n",
    "    # ax[1,1].set_xlabel(\"Hist\")\n",
    "    ax[1, 0].set_xlabel(\"Power in p.u.\")\n",
    "    ax[1, 0].set_ylabel(\"Price in €/MWh\")\n",
    "\n",
    "    fig.tight_layout(h_pad=0.1, w_pad=0.5)\n",
    "\n",
    "    fig.legend(loc=\"center\", bbox_to_anchor=(0.87, 0.85))\n",
    "\n",
    "    return fig"
   ]
  },
  {
   "cell_type": "code",
   "execution_count": 14,
   "metadata": {},
   "outputs": [],
   "source": [
    "price = load_price_timeseries(\"data/intraday_prices/electricity_prices_germany_2021.csv\")"
   ]
  },
  {
   "cell_type": "code",
   "execution_count": 17,
   "metadata": {},
   "outputs": [],
   "source": [
    "dir = \"results/degradation/\"\n",
    "res = load_results(dir)"
   ]
  },
  {
   "cell_type": "code",
   "execution_count": 20,
   "metadata": {},
   "outputs": [],
   "source": [
    "df_lp = analyse_results_lp(res, price)\n",
    "df_nl = analyse_results_nl(res, price)"
   ]
  },
  {
   "cell_type": "code",
   "execution_count": 29,
   "metadata": {},
   "outputs": [
    {
     "data": {
      "text/html": [
       "<div>\n",
       "<style scoped>\n",
       "    .dataframe tbody tr th:only-of-type {\n",
       "        vertical-align: middle;\n",
       "    }\n",
       "\n",
       "    .dataframe tbody tr th {\n",
       "        vertical-align: top;\n",
       "    }\n",
       "\n",
       "    .dataframe thead th {\n",
       "        text-align: right;\n",
       "    }\n",
       "</style>\n",
       "<table border=\"1\" class=\"dataframe\">\n",
       "  <thead>\n",
       "    <tr style=\"text-align: right;\">\n",
       "      <th></th>\n",
       "      <th>r</th>\n",
       "      <th>eff</th>\n",
       "      <th>rev</th>\n",
       "      <th>throughput</th>\n",
       "      <th>rountrip_eff</th>\n",
       "    </tr>\n",
       "  </thead>\n",
       "  <tbody>\n",
       "    <tr>\n",
       "      <th>0</th>\n",
       "      <td>3.0</td>\n",
       "      <td>0.85</td>\n",
       "      <td>254.026912</td>\n",
       "      <td>14.059955</td>\n",
       "      <td>0.855119</td>\n",
       "    </tr>\n",
       "    <tr>\n",
       "      <th>0</th>\n",
       "      <td>3.0</td>\n",
       "      <td>0.90</td>\n",
       "      <td>284.749437</td>\n",
       "      <td>16.925499</td>\n",
       "      <td>0.854086</td>\n",
       "    </tr>\n",
       "    <tr>\n",
       "      <th>0</th>\n",
       "      <td>3.0</td>\n",
       "      <td>0.92</td>\n",
       "      <td>289.824443</td>\n",
       "      <td>17.376979</td>\n",
       "      <td>0.853156</td>\n",
       "    </tr>\n",
       "    <tr>\n",
       "      <th>0</th>\n",
       "      <td>3.0</td>\n",
       "      <td>0.95</td>\n",
       "      <td>309.896635</td>\n",
       "      <td>19.604911</td>\n",
       "      <td>0.852537</td>\n",
       "    </tr>\n",
       "  </tbody>\n",
       "</table>\n",
       "</div>"
      ],
      "text/plain": [
       "     r   eff         rev  throughput  rountrip_eff\n",
       "0  3.0  0.85  254.026912   14.059955      0.855119\n",
       "0  3.0  0.90  284.749437   16.925499      0.854086\n",
       "0  3.0  0.92  289.824443   17.376979      0.853156\n",
       "0  3.0  0.95  309.896635   19.604911      0.852537"
      ]
     },
     "execution_count": 29,
     "metadata": {},
     "output_type": "execute_result"
    }
   ],
   "source": [
    "df_lp[df_lp.r == 3.0]"
   ]
  },
  {
   "cell_type": "code",
   "execution_count": 31,
   "metadata": {},
   "outputs": [
    {
     "data": {
      "text/html": [
       "<div>\n",
       "<style scoped>\n",
       "    .dataframe tbody tr th:only-of-type {\n",
       "        vertical-align: middle;\n",
       "    }\n",
       "\n",
       "    .dataframe tbody tr th {\n",
       "        vertical-align: top;\n",
       "    }\n",
       "\n",
       "    .dataframe thead th {\n",
       "        text-align: right;\n",
       "    }\n",
       "</style>\n",
       "<table border=\"1\" class=\"dataframe\">\n",
       "  <thead>\n",
       "    <tr style=\"text-align: right;\">\n",
       "      <th></th>\n",
       "      <th>r</th>\n",
       "      <th>r_opt</th>\n",
       "      <th>rev</th>\n",
       "      <th>throughput</th>\n",
       "      <th>rountrip_eff</th>\n",
       "    </tr>\n",
       "  </thead>\n",
       "  <tbody>\n",
       "    <tr>\n",
       "      <th>0</th>\n",
       "      <td>3.0</td>\n",
       "      <td>1.0</td>\n",
       "      <td>280.440712</td>\n",
       "      <td>16.599803</td>\n",
       "      <td>0.860276</td>\n",
       "    </tr>\n",
       "    <tr>\n",
       "      <th>0</th>\n",
       "      <td>3.0</td>\n",
       "      <td>1.5</td>\n",
       "      <td>278.268461</td>\n",
       "      <td>16.350672</td>\n",
       "      <td>0.860159</td>\n",
       "    </tr>\n",
       "    <tr>\n",
       "      <th>0</th>\n",
       "      <td>3.0</td>\n",
       "      <td>2.0</td>\n",
       "      <td>276.689614</td>\n",
       "      <td>16.151995</td>\n",
       "      <td>0.861616</td>\n",
       "    </tr>\n",
       "    <tr>\n",
       "      <th>0</th>\n",
       "      <td>3.0</td>\n",
       "      <td>3.0</td>\n",
       "      <td>270.054185</td>\n",
       "      <td>15.510526</td>\n",
       "      <td>0.864488</td>\n",
       "    </tr>\n",
       "  </tbody>\n",
       "</table>\n",
       "</div>"
      ],
      "text/plain": [
       "     r  r_opt         rev  throughput  rountrip_eff\n",
       "0  3.0    1.0  280.440712   16.599803      0.860276\n",
       "0  3.0    1.5  278.268461   16.350672      0.860159\n",
       "0  3.0    2.0  276.689614   16.151995      0.861616\n",
       "0  3.0    3.0  270.054185   15.510526      0.864488"
      ]
     },
     "execution_count": 31,
     "metadata": {},
     "output_type": "execute_result"
    }
   ],
   "source": [
    "df_nl[df_nl.r == 3.0]"
   ]
  },
  {
   "cell_type": "code",
   "execution_count": null,
   "metadata": {},
   "outputs": [],
   "source": [
    "plot_trading_power(res[\"2021 \"])"
   ]
  }
 ],
 "metadata": {
  "kernelspec": {
   "display_name": ".venv",
   "language": "python",
   "name": "python3"
  },
  "language_info": {
   "codemirror_mode": {
    "name": "ipython",
    "version": 3
   },
   "file_extension": ".py",
   "mimetype": "text/x-python",
   "name": "python",
   "nbconvert_exporter": "python",
   "pygments_lexer": "ipython3",
   "version": "3.13.2"
  }
 },
 "nbformat": 4,
 "nbformat_minor": 2
}
