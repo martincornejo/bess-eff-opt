{
 "cells": [
  {
   "cell_type": "code",
   "execution_count": 4,
   "metadata": {},
   "outputs": [],
   "source": [
    "import os\n",
    "import pandas as pd"
   ]
  },
  {
   "cell_type": "code",
   "execution_count": 2,
   "metadata": {},
   "outputs": [],
   "source": [
    "def load_imbalance_prices(file: str) -> pd.Series:\n",
    "    df = pd.read_csv(file, sep=\";\", decimal=\",\")\n",
    "    t = pd.to_datetime(df[\"Datum\"] + \" \" + df[\"von\"], format='%d.%m.%Y %H:%M') \n",
    "    df[\"datetime\"] = pd.date_range(t.iloc[0], t.iloc[-1], freq=\"15Min\") # avoid repeated indices from daylight saving time change\n",
    "    df = df.set_index(\"datetime\")\n",
    "    return df"
   ]
  },
  {
   "cell_type": "code",
   "execution_count": 5,
   "metadata": {},
   "outputs": [],
   "source": [
    "def load_results(dir):\n",
    "    res = {}\n",
    "    files = [f for f in os.listdir(dir) if f.endswith(\".parquet\")]\n",
    "    for file in files:\n",
    "        name, _ = os.path.splitext(file)\n",
    "        res[name] = pd.read_parquet(dir + file)\n",
    "\n",
    "    return res"
   ]
  },
  {
   "cell_type": "code",
   "execution_count": 25,
   "metadata": {},
   "outputs": [],
   "source": [
    "def calculate_imbalance_cost(df, price):\n",
    "    price = price.resample(\"1Min\").ffill()\n",
    "    df = df.join(price)\n",
    "    df[\"imb\"] = -(df[\"power_opt\"] - df[\"power_sim\"]) * (1 / 60) * 1e-6 # MWh\n",
    "    \n",
    "    # BESS under-supply\n",
    "    df_u = df.loc[df.imb > 0]\n",
    "    cost_u = sum(df_u[\"imb\"] * df_u[\"reBAP unterdeckt\"])\n",
    "    \n",
    "    # BESS over-supply\n",
    "    df_o = df.loc[df.imb < 0]\n",
    "    cost_o = sum(df_o[\"imb\"] * df_o[\"reBAP ueberdeckt\"])\n",
    "\n",
    "    return cost_u + cost_o"
   ]
  },
  {
   "cell_type": "code",
   "execution_count": 26,
   "metadata": {},
   "outputs": [],
   "source": [
    "imb_price = load_imbalance_prices(\"data/balancing_energy_prices/reBAP_2021.csv\")"
   ]
  },
  {
   "cell_type": "code",
   "execution_count": 27,
   "metadata": {},
   "outputs": [],
   "source": [
    "dir = \"results/full_year/\"\n",
    "res = load_results(dir)"
   ]
  },
  {
   "cell_type": "code",
   "execution_count": 28,
   "metadata": {},
   "outputs": [
    {
     "data": {
      "text/plain": [
       "48.94987480621723"
      ]
     },
     "execution_count": 28,
     "metadata": {},
     "output_type": "execute_result"
    }
   ],
   "source": [
    "calculate_imbalance_cost(res[\"2021 LP fec=1.0 r=1.0 eff=0.95\"], imb_price)"
   ]
  },
  {
   "cell_type": "code",
   "execution_count": null,
   "metadata": {},
   "outputs": [],
   "source": []
  }
 ],
 "metadata": {
  "kernelspec": {
   "display_name": ".venv",
   "language": "python",
   "name": "python3"
  },
  "language_info": {
   "codemirror_mode": {
    "name": "ipython",
    "version": 3
   },
   "file_extension": ".py",
   "mimetype": "text/x-python",
   "name": "python",
   "nbconvert_exporter": "python",
   "pygments_lexer": "ipython3",
   "version": "3.13.2"
  }
 },
 "nbformat": 4,
 "nbformat_minor": 2
}
