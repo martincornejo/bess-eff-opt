{
 "cells": [
  {
   "cell_type": "code",
   "execution_count": null,
   "metadata": {},
   "outputs": [],
   "source": [
    "import os\n",
    "import re\n",
    "\n",
    "import pandas as pd\n",
    "import numpy as np\n",
    "\n",
    "import matplotlib.pyplot as plt\n",
    "\n",
    "import plotly.graph_objects as go\n",
    "from plotly.subplots import make_subplots"
   ]
  },
  {
   "cell_type": "code",
   "execution_count": null,
   "metadata": {},
   "outputs": [],
   "source": [
    "template = \"plotly_dark\""
   ]
  },
  {
   "cell_type": "code",
   "execution_count": null,
   "metadata": {},
   "outputs": [],
   "source": [
    "def load_price_timeseries(file: str) -> pd.Series:\n",
    "    df = pd.read_csv(file)\n",
    "    df.index = pd.to_datetime(df[\"Date\"], format=\"%d/%m/%Y %H:%M\")\n",
    "    return df[\"Intraday Continuous 15 minutes ID1-Price\"]  # * 1e-6 # €/MWh -> €/Wh"
   ]
  },
  {
   "cell_type": "code",
   "execution_count": null,
   "metadata": {},
   "outputs": [],
   "source": [
    "def load_results(dir):\n",
    "    res = {}\n",
    "    files = [f for f in os.listdir(dir) if f.endswith(\".parquet\")]\n",
    "    for file in files:\n",
    "        name, _ = os.path.splitext(file)\n",
    "        res[name] = pd.read_parquet(dir + file)\n",
    "\n",
    "    return res"
   ]
  },
  {
   "cell_type": "code",
   "execution_count": null,
   "metadata": {},
   "outputs": [],
   "source": [
    "def exctract_value(string, key):\n",
    "    match = re.search(fr\"{key}=([\\d.]+)\", string)\n",
    "    if match:\n",
    "        value = match.group(1)\n",
    "    return value"
   ]
  },
  {
   "cell_type": "code",
   "execution_count": null,
   "metadata": {},
   "outputs": [],
   "source": [
    "def calc_fec(df):\n",
    "    power = df[\"power_sim\"]\n",
    "    power_pos = power[power > 0].sum() * (1 / 60)\n",
    "    power_neg = power[power < 0].abs().sum() * (1 / 60)\n",
    "    return (power_pos + power_neg) / 2 / 180e3"
   ]
  },
  {
   "cell_type": "code",
   "execution_count": null,
   "metadata": {},
   "outputs": [],
   "source": [
    "def calc_roundtrip_efficiency(res):\n",
    "    p = res[\"power_sim\"]\n",
    "    e_pos = p[p > 0].abs().sum() * 0.25  # Wh\n",
    "    e_neg = p[p < 0].abs().sum() * 0.25  # Wh\n",
    "\n",
    "    delta_soc = res[\"soc_sim\"].iloc[-1] - res[\"soc_sim\"].iloc[0]\n",
    "    delta_e = delta_soc * 180e3  # Wh\n",
    "\n",
    "    return abs(e_neg) / (e_pos - delta_e)"
   ]
  },
  {
   "cell_type": "code",
   "execution_count": null,
   "metadata": {},
   "outputs": [],
   "source": [
    "# def calc_roundtrip_efficiency2(res):\n",
    "#     p = res[\"power_sim\"]\n",
    "#     e_pos = p[p > 0].abs().sum()  # Wh\n",
    "#     l_pos = res.loc[p > 0, \"converter_losses\"].sum() + res.loc[p > 0, \"battery_losses\"].sum()\n",
    "#     eff_pos = (e_pos - l_pos) / (e_pos)\n",
    "    \n",
    "#     e_neg = p[p < 0].sum()  # Wh\n",
    "#     l_neg = res.loc[p < 0, \"converter_losses\"].sum() + res.loc[p < 0, \"battery_losses\"].sum()\n",
    "#     eff_neg = (e_neg) / (e_neg - l_neg) \n",
    "\n",
    "#     return eff_pos #* eff_neg"
   ]
  },
  {
   "cell_type": "code",
   "execution_count": null,
   "metadata": {},
   "outputs": [],
   "source": [
    "def calc_revenue(df, price):\n",
    "    price = price.resample(\"1Min\").ffill()\n",
    "    df = df.join(price)\n",
    "    return -1 * sum(df[\"power_sim\"] * df[\"Intraday Continuous 15 minutes ID1-Price\"]) * (1/60) * 1e-6  # W -> MWh"
   ]
  },
  {
   "cell_type": "code",
   "execution_count": null,
   "metadata": {},
   "outputs": [],
   "source": [
    "def analyse_results(res, price):\n",
    "    out = pd.DataFrame()\n",
    "    for (id, df) in res.items():\n",
    "        data = dict(\n",
    "            r = exctract_value(id, \"r\"),\n",
    "            eff = exctract_value(id, \"eff\"),\n",
    "            rev = calc_revenue(df, price),\n",
    "            fec = calc_fec(df),\n",
    "            reff = calc_roundtrip_efficiency(df),\n",
    "        )\n",
    "        out = pd.concat([out, pd.DataFrame(data=[data])])\n",
    "\n",
    "    return out"
   ]
  },
  {
   "cell_type": "code",
   "execution_count": null,
   "metadata": {},
   "outputs": [],
   "source": [
    "def plot_timeseries(df, **kwargs):\n",
    "    fig = make_subplots(rows=2, cols=1, shared_xaxes=True)\n",
    "    fig.update_layout(**kwargs)\n",
    "\n",
    "    for id in [\"soc_sim\", \"soc_opt\"]:\n",
    "        fig.add_trace(go.Scatter(x=df.index, y=df[id], name=id), row=1, col=1)\n",
    "\n",
    "    for id in [\"power_sim\", \"power_opt\"]:\n",
    "        fig.add_trace(go.Scatter(x=df.index, y=df[id], name=id), row=2, col=1)\n",
    "    \n",
    "    return fig"
   ]
  },
  {
   "cell_type": "code",
   "execution_count": null,
   "metadata": {},
   "outputs": [],
   "source": [
    "dir = \"results/\"\n",
    "res = load_results(dir)"
   ]
  },
  {
   "cell_type": "code",
   "execution_count": null,
   "metadata": {},
   "outputs": [],
   "source": [
    "price = load_price_timeseries(\"data/intraday_prices/electricity_prices_germany_2021.csv\")"
   ]
  },
  {
   "cell_type": "code",
   "execution_count": null,
   "metadata": {},
   "outputs": [],
   "source": [
    "# plot_timeseries(res[\"2021 LP r=1.0 eff=0.95\"], height=800, template=template)"
   ]
  },
  {
   "cell_type": "code",
   "execution_count": null,
   "metadata": {},
   "outputs": [],
   "source": [
    "df = analyse_results(res, price)"
   ]
  },
  {
   "cell_type": "code",
   "execution_count": null,
   "metadata": {},
   "outputs": [],
   "source": [
    "df[\"fec\"] =  df[\"fec\"] / df[\"fec\"].iloc[0]\n",
    "df[\"rev\"] =  df[\"rev\"] / df[\"rev\"].iloc[0]\n",
    "df"
   ]
  },
  {
   "cell_type": "code",
   "execution_count": null,
   "metadata": {},
   "outputs": [],
   "source": [
    "fig, ax = plt.subplots()\n",
    "\n",
    "for eff, group in df.groupby(\"eff\"):\n",
    "    ax.scatter(x=group[\"reff\"], y=group[\"rev\"], label=eff)\n",
    "\n",
    "ax.legend()\n",
    "# fig"
   ]
  },
  {
   "cell_type": "code",
   "execution_count": null,
   "metadata": {},
   "outputs": [],
   "source": []
  }
 ],
 "metadata": {
  "kernelspec": {
   "display_name": ".venv",
   "language": "python",
   "name": "python3"
  },
  "language_info": {
   "codemirror_mode": {
    "name": "ipython",
    "version": 3
   },
   "file_extension": ".py",
   "mimetype": "text/x-python",
   "name": "python",
   "nbconvert_exporter": "python",
   "pygments_lexer": "ipython3",
   "version": "3.13.2"
  }
 },
 "nbformat": 4,
 "nbformat_minor": 2
}
