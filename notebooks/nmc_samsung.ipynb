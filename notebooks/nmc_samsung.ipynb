{
 "cells": [
  {
   "cell_type": "code",
   "execution_count": 1,
   "metadata": {},
   "outputs": [],
   "source": [
    "import pandas as pd\n",
    "import numpy as np"
   ]
  },
  {
   "cell_type": "markdown",
   "metadata": {},
   "source": [
    "## OCV"
   ]
  },
  {
   "cell_type": "code",
   "execution_count": 11,
   "metadata": {},
   "outputs": [],
   "source": [
    "df_ocv = pd.read_csv(\"../data/cell/NMC_Samsung_LabTest_cell_00_OCV.csv\") \n",
    "df_ocv = df_ocv.rename(columns={\"SOC (T=298.15K)\": \"soc\",\"OCV (T=298.15K)\": \"ocv\"})\n",
    "df_ocv = df_ocv[[\"soc\", \"ocv\"]]\n",
    "df_ocv[\"soc\"] /= 100 "
   ]
  },
  {
   "cell_type": "code",
   "execution_count": 12,
   "metadata": {},
   "outputs": [],
   "source": [
    "df_ocv.iloc[::10].to_csv(\"../cell/data/ocv.csv\", index=False) # 1% steps"
   ]
  },
  {
   "cell_type": "code",
   "execution_count": null,
   "metadata": {},
   "outputs": [],
   "source": [
    "df_ocv.plot(x=\"soc\", y=\"ocv\")"
   ]
  },
  {
   "cell_type": "markdown",
   "metadata": {},
   "source": [
    "## OCV fit"
   ]
  },
  {
   "cell_type": "code",
   "execution_count": 14,
   "metadata": {},
   "outputs": [],
   "source": [
    "def ocv_fit(soc):        \n",
    "    a1 = 3.3479\n",
    "    a2 = -6.7241\n",
    "    a3 = 2.5958\n",
    "    a4 = -61.9684\n",
    "    b1 = 0.6350\n",
    "    b2 = 1.4376\n",
    "    k0 = 4.5868\n",
    "    k1 = 3.1768\n",
    "    k2 = -3.8418\n",
    "    k3 = -4.6932\n",
    "    k4 = 0.3618\n",
    "    k5 = 0.9949\n",
    "\n",
    "    return k0 + \\\n",
    "           k1 / (1 + np.exp(a1 * (soc - b1))) + \\\n",
    "           k2 / (1 + np.exp(a2 * (soc - b2))) + \\\n",
    "           k3 / (1 + np.exp(a3 * (soc - 1))) + \\\n",
    "           k4 / (1 + np.exp(a4 * soc)) + \\\n",
    "           k5 * soc"
   ]
  },
  {
   "cell_type": "code",
   "execution_count": 15,
   "metadata": {},
   "outputs": [],
   "source": [
    "def plot_ocv(df_ocv):\n",
    "    df = df_ocv.iloc[::10]\n",
    "    df_ocv[\"ocv fit\"] = ocv_fit(df_ocv[\"soc\"])\n",
    "    return df_ocv"
   ]
  },
  {
   "cell_type": "code",
   "execution_count": null,
   "metadata": {},
   "outputs": [],
   "source": [
    "plot_ocv(df_ocv).set_index(\"soc\").plot(xlabel=\"SOC in p.u.\", ylabel=\"Voltage in V\")"
   ]
  },
  {
   "cell_type": "markdown",
   "metadata": {},
   "source": [
    "## Rint"
   ]
  },
  {
   "cell_type": "code",
   "execution_count": 8,
   "metadata": {},
   "outputs": [],
   "source": [
    "df_rint = pd.read_csv(\"../data/cell/NMC_Samsung_LabTest_cell_00_Ri.csv\")\n",
    "df_rint = df_rint.rename(columns={\"SOC\": \"soc\", \"R_DCh(T=298.15 K, 0.5 C)\": \"rint\"})\n",
    "df_rint = df_rint[[\"soc\", \"rint\"]]"
   ]
  },
  {
   "cell_type": "code",
   "execution_count": 9,
   "metadata": {},
   "outputs": [],
   "source": [
    "df_rint.to_csv(\"../data/cell/rint.csv\", index=False)"
   ]
  },
  {
   "cell_type": "code",
   "execution_count": null,
   "metadata": {},
   "outputs": [],
   "source": [
    "df_rint.plot(x=\"soc\", y=\"rint\", xlabel=\"SOC in p.u.\", ylabel = \"Resitance in mΩ\")"
   ]
  },
  {
   "cell_type": "code",
   "execution_count": null,
   "metadata": {},
   "outputs": [],
   "source": []
  }
 ],
 "metadata": {
  "kernelspec": {
   "display_name": ".venv",
   "language": "python",
   "name": "python3"
  },
  "language_info": {
   "codemirror_mode": {
    "name": "ipython",
    "version": 3
   },
   "file_extension": ".py",
   "mimetype": "text/x-python",
   "name": "python",
   "nbconvert_exporter": "python",
   "pygments_lexer": "ipython3",
   "version": "3.13.0"
  }
 },
 "nbformat": 4,
 "nbformat_minor": 2
}
