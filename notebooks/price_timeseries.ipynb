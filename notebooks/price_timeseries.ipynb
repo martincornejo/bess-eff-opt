{
 "cells": [
  {
   "cell_type": "code",
   "execution_count": 1,
   "metadata": {},
   "outputs": [],
   "source": [
    "import pandas as pd"
   ]
  },
  {
   "cell_type": "code",
   "execution_count": 2,
   "metadata": {},
   "outputs": [],
   "source": [
    "def load_price_timeseries(file: str) -> pd.Series:\n",
    "    df = pd.read_csv(file)\n",
    "    df.index = pd.to_datetime(df[\"Date\"], format=\"%d/%m/%Y %H:%M\")\n",
    "    return df[\"Intraday Continuous 15 minutes ID1-Price\"] # * 1e-6 # €/MWh -> €/Wh"
   ]
  },
  {
   "cell_type": "code",
   "execution_count": 19,
   "metadata": {},
   "outputs": [],
   "source": [
    "df_2019 = load_price_timeseries(\"../data/intraday_prices/electricity_prices_germany_2019.csv\")\n",
    "df_2020 = load_price_timeseries(\"../data/intraday_prices/electricity_prices_germany_2020.csv\")\n",
    "df_2021 = load_price_timeseries(\"../data/intraday_prices/electricity_prices_germany_2021.csv\")\n",
    "df_2022 = load_price_timeseries(\"../data/intraday_prices/electricity_prices_germany_2022.csv\")"
   ]
  },
  {
   "cell_type": "code",
   "execution_count": null,
   "metadata": {},
   "outputs": [],
   "source": [
    "n = (4 * 24 * 7) * 52\n",
    "df = pd.DataFrame()\n",
    "df[\"2022\"] = df_2022.iloc[0:n].values\n",
    "df[\"2021\"] = df_2021.iloc[0:n].values\n",
    "df[\"2020\"] = df_2020.iloc[0:n].values\n",
    "df[\"2019\"] = df_2019.iloc[0:n].values\n",
    "df.plot() # ylim=(-200, 300)"
   ]
  },
  {
   "cell_type": "code",
   "execution_count": null,
   "metadata": {},
   "outputs": [],
   "source": []
  }
 ],
 "metadata": {
  "kernelspec": {
   "display_name": ".venv",
   "language": "python",
   "name": "python3"
  },
  "language_info": {
   "codemirror_mode": {
    "name": "ipython",
    "version": 3
   },
   "file_extension": ".py",
   "mimetype": "text/x-python",
   "name": "python",
   "nbconvert_exporter": "python",
   "pygments_lexer": "ipython3",
   "version": "3.13.0"
  }
 },
 "nbformat": 4,
 "nbformat_minor": 2
}
