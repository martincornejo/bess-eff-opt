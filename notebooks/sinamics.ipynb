{
 "cells": [
  {
   "cell_type": "code",
   "execution_count": 16,
   "metadata": {},
   "outputs": [],
   "source": [
    "import pandas as pd\n",
    "import numpy as np\n",
    "import matplotlib.pyplot as plt\n",
    "from scipy.optimize import curve_fit\n",
    "from scipy.interpolate import make_interp_spline"
   ]
  },
  {
   "cell_type": "markdown",
   "metadata": {},
   "source": [
    "## Lookup table\n",
    "Siemens Sinamics S120 taken from [Schimpe et al.](https://doi.org/10.1016/j.egypro.2018.11.065)"
   ]
  },
  {
   "cell_type": "code",
   "execution_count": 17,
   "metadata": {},
   "outputs": [],
   "source": [
    "df = pd.read_csv(\"../data/converter/sinamics_S120_efficiency.csv\")\n",
    "df.index = np.linspace(0, 1, 1001)"
   ]
  },
  {
   "cell_type": "code",
   "execution_count": 18,
   "metadata": {},
   "outputs": [],
   "source": [
    "# df[\"Charging\"].plot()"
   ]
  },
  {
   "cell_type": "markdown",
   "metadata": {},
   "source": [
    "## Quadratic function to approximate conversion losses"
   ]
  },
  {
   "cell_type": "code",
   "execution_count": 19,
   "metadata": {},
   "outputs": [],
   "source": [
    "p = np.linspace(0, 1, 1001)\n",
    "l = p - p * df[\"Charging\"]\n",
    "loss_interp = make_interp_spline(p, l.values, k=1) # lookup-table"
   ]
  },
  {
   "cell_type": "code",
   "execution_count": 20,
   "metadata": {},
   "outputs": [],
   "source": [
    "def converter_loss(power, k0, k1, k2, m0):\n",
    "    return k0 * (1 - np.exp(-m0 * power)) + k1 * power + k2 * power ** 2"
   ]
  },
  {
   "cell_type": "code",
   "execution_count": 21,
   "metadata": {},
   "outputs": [],
   "source": [
    "def fit_polynomial(loss_interp):\n",
    "    p = np.arange(0.05, 1.0, 0.01)\n",
    "    l = loss_interp(p)\n",
    "\n",
    "    # popt, pcov = curve_fit(converter_loss, p, l)\n",
    "    param = np.polyfit(p, l, 2)\n",
    "    return param[::-1]"
   ]
  },
  {
   "cell_type": "code",
   "execution_count": null,
   "metadata": {},
   "outputs": [],
   "source": [
    "param = fit_polynomial(loss_interp)\n",
    "param"
   ]
  },
  {
   "cell_type": "code",
   "execution_count": null,
   "metadata": {},
   "outputs": [],
   "source": [
    "def fit_m0(param, loss_interp):\n",
    "    p = np.linspace(0, 1, 1001)\n",
    "    l = loss_interp(p)\n",
    "\n",
    "    return curve_fit(lambda p, m0: converter_loss(p, *param, m0), p, l)\n",
    "\n",
    "fit_m0(param, loss_interp)"
   ]
  },
  {
   "cell_type": "code",
   "execution_count": null,
   "metadata": {},
   "outputs": [],
   "source": [
    "def plot_fit(param, loss_interp):\n",
    "    poly = np.poly1d(param[::-1])\n",
    "    p = np.linspace(0, 1, 1001)\n",
    "\n",
    "    fig, ax = plt.subplots()\n",
    "    ax.set_xlabel(\"Power in p.u.\")\n",
    "    ax.set_ylabel(\"Power loss in p.u.\")\n",
    "    ax.plot(p, loss_interp(p), label=\"Measured\")\n",
    "    ax.plot(p, poly(p), label=\"Polynomial\")\n",
    "    # ax.plot(p, converter_loss(p, *param, m0=100), label=\"Fit\")\n",
    "    ax.plot(p, converter_loss(p, *param, m0=50), label=\"Fit\")\n",
    "    ax.legend()\n",
    "    return fig\n",
    "\n",
    "fig1 = plot_fit(param, loss_interp)"
   ]
  },
  {
   "cell_type": "markdown",
   "metadata": {},
   "source": [
    "## Efficiency curve"
   ]
  },
  {
   "cell_type": "code",
   "execution_count": null,
   "metadata": {},
   "outputs": [],
   "source": [
    "def plot_efficiency(param, loss_interp):\n",
    "    p = np.linspace(0, 1, 1001)\n",
    "    \n",
    "    l1 = loss_interp(p)\n",
    "    eff1 = (p - l1) / p\n",
    "    eff1[0] = 0\n",
    "\n",
    "    l2 = converter_loss(p, *param, m0=100)\n",
    "    eff2 = (p - l2) / p\n",
    "    eff2[0] = 0\n",
    "\n",
    "    fig, ax = plt.subplots()\n",
    "    ax.set_xlabel(\"Power in p.u.\")\n",
    "    ax.set_ylabel(\"Efficiency in p.u.\")\n",
    "    ax.plot(p, eff1)\n",
    "    ax.plot(p, eff2)\n",
    "\n",
    "    return fig\n",
    "\n",
    "fig2 = plot_efficiency(param, loss_interp)"
   ]
  },
  {
   "cell_type": "code",
   "execution_count": null,
   "metadata": {},
   "outputs": [],
   "source": []
  }
 ],
 "metadata": {
  "kernelspec": {
   "display_name": ".venv",
   "language": "python",
   "name": "python3"
  },
  "language_info": {
   "codemirror_mode": {
    "name": "ipython",
    "version": 3
   },
   "file_extension": ".py",
   "mimetype": "text/x-python",
   "name": "python",
   "nbconvert_exporter": "python",
   "pygments_lexer": "ipython3",
   "version": "3.13.0"
  }
 },
 "nbformat": 4,
 "nbformat_minor": 2
}
