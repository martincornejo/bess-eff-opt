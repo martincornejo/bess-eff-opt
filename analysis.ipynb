{
 "cells": [
  {
   "cell_type": "code",
   "execution_count": null,
   "metadata": {},
   "outputs": [],
   "source": [
    "%load_ext autoreload\n",
    "%autoreload 2"
   ]
  },
  {
   "cell_type": "code",
   "execution_count": null,
   "metadata": {},
   "outputs": [],
   "source": [
    "import os\n",
    "import pandas as pd\n",
    "\n",
    "from optses.analysis import analyze_results_lp, analyze_results_nl\n",
    "from optses.plots import plot_benchmark, plot_power_ecdf, plot_sensitivity"
   ]
  },
  {
   "cell_type": "code",
   "execution_count": null,
   "metadata": {},
   "outputs": [],
   "source": [
    "def load_price_timeseries(file: str) -> pd.Series:\n",
    "    df = pd.read_csv(file)\n",
    "    df.index = pd.to_datetime(df[\"Date\"], format=\"%d/%m/%Y %H:%M\")\n",
    "    return df[\"Intraday Continuous 15 minutes ID1-Price\"]  # €/MWh"
   ]
  },
  {
   "cell_type": "code",
   "execution_count": null,
   "metadata": {},
   "outputs": [],
   "source": [
    "def load_results(dir: str) -> dict[str, pd.DataFrame]:\n",
    "    res = {}\n",
    "    files = [f for f in os.listdir(dir) if f.endswith(\".parquet\")]\n",
    "    for file in files:\n",
    "        name, _ = os.path.splitext(file)\n",
    "        res[name] = pd.read_parquet(dir + file)\n",
    "\n",
    "    return res"
   ]
  },
  {
   "cell_type": "code",
   "execution_count": null,
   "metadata": {},
   "outputs": [],
   "source": [
    "price = load_price_timeseries(\"data/intraday_prices/electricity_prices_germany_2021.csv\")"
   ]
  },
  {
   "cell_type": "code",
   "execution_count": null,
   "metadata": {},
   "outputs": [],
   "source": [
    "dir = \"results/\"\n",
    "res = load_results(dir)\n",
    "\n",
    "df_lp = analyze_results_lp(res, price)\n",
    "df_nl = analyze_results_nl(res, price)"
   ]
  },
  {
   "cell_type": "code",
   "execution_count": null,
   "metadata": {},
   "outputs": [],
   "source": [
    "# filter base scenarios\n",
    "lp_params = [(1.0, 0.959), (2.0, 0.946), (3.0, 0.933)]\n",
    "df_lp0 = pd.concat([df_lp[(df_lp.r == r) & (df_lp.eff == eff)] for (r, eff) in lp_params])\n",
    "df_nl0 = df_nl[df_nl.r_opt == 1.0]"
   ]
  },
  {
   "cell_type": "code",
   "execution_count": null,
   "metadata": {},
   "outputs": [],
   "source": [
    "df_lp0.style.format({\n",
    "    \"r\": \"{:.1f}\", # SOH_R scenario\n",
    "    \"eff\": \"{:.1%}\", # efficiency model param (sensitivity scenario)\n",
    "    \"rev\": \"{:,.0f}\", # revenue in €\n",
    "    \"fec\": \"{:,.0f}\", # number of full equivalent cycles\n",
    "    \"rte\": \"{:.1%}\", # roundtrip efficiency\n",
    "    \"loss_batt\": \"{:.1%}\", # relative battery losses\n",
    "    \"loss_conv\": \"{:.1%}\", # relative converter losses\n",
    "    \"imb_ch\": \"{:,.0f}\", # energy imbalance in Wh\n",
    "    \"imb_dch\": \"{:,.0f}\", # energy imbalance in Wh\n",
    "})"
   ]
  },
  {
   "cell_type": "code",
   "execution_count": null,
   "metadata": {},
   "outputs": [],
   "source": [
    "df_nl0.style.format({\n",
    "    \"r\": \"{:.1f}\", # SOH_R scenario\n",
    "    \"r_opt\": \"{:.1f}\", # SOH_R model, deviation factor (sensitivity scenario)\n",
    "    \"rev\": \"{:,.0f}\", # revenue in €\n",
    "    \"fec\": \"{:.0f}\", # number of full equivalent cycles\n",
    "    \"rte\": \"{:.1%}\", # roundtrip efficiency\n",
    "    \"loss_batt\": \"{:.1%}\", # relative battery losses\n",
    "    \"loss_conv\": \"{:.1%}\", # relative converter losses\n",
    "    \"imb_ch\": \"{:,.0f}\", # energy imbalance in Wh\n",
    "    \"imb_dch\": \"{:,.0f}\", # energy imbalance in Wh\n",
    "})"
   ]
  },
  {
   "cell_type": "code",
   "execution_count": null,
   "metadata": {},
   "outputs": [],
   "source": [
    "fig1 = plot_benchmark(df_lp0, df_nl0)"
   ]
  },
  {
   "cell_type": "code",
   "execution_count": null,
   "metadata": {},
   "outputs": [],
   "source": [
    "fig2 = plot_power_ecdf(\n",
    "    res_lp = {r: res[f\"2021 LP {r=} {eff=}\"] for r, eff in lp_params},\n",
    "    res_nl = {r: res[f\"2021 NL {r=} r_opt=1.0\"] for r in (1.0, 2.0, 3.0)}\n",
    ")"
   ]
  },
  {
   "cell_type": "code",
   "execution_count": null,
   "metadata": {},
   "outputs": [],
   "source": [
    "fig3 = plot_sensitivity(df_lp, df_nl, df_lp0, df_nl0)"
   ]
  },
  {
   "cell_type": "code",
   "execution_count": null,
   "metadata": {},
   "outputs": [],
   "source": [
    "fig1.savefig(\"figs/benchmark.pdf\", bbox_inches=\"tight\")\n",
    "fig2.savefig(\"figs/power_dist.pdf\", bbox_inches=\"tight\")\n",
    "fig3.savefig(\"figs/sensitivity.pdf\", bbox_inches=\"tight\")"
   ]
  },
  {
   "cell_type": "code",
   "execution_count": null,
   "metadata": {},
   "outputs": [],
   "source": []
  }
 ],
 "metadata": {
  "kernelspec": {
   "display_name": ".venv",
   "language": "python",
   "name": "python3"
  },
  "language_info": {
   "codemirror_mode": {
    "name": "ipython",
    "version": 3
   },
   "file_extension": ".py",
   "mimetype": "text/x-python",
   "name": "python",
   "nbconvert_exporter": "python",
   "pygments_lexer": "ipython3",
   "version": "3.13.3"
  }
 },
 "nbformat": 4,
 "nbformat_minor": 2
}
