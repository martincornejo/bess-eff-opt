{
 "cells": [
  {
   "cell_type": "code",
   "execution_count": null,
   "metadata": {},
   "outputs": [],
   "source": [
    "import os\n",
    "import re\n",
    "\n",
    "import pandas as pd\n",
    "import numpy as np\n",
    "\n",
    "import matplotlib.pyplot as plt\n",
    "\n",
    "import plotly.graph_objects as go\n",
    "from plotly.subplots import make_subplots"
   ]
  },
  {
   "cell_type": "code",
   "execution_count": null,
   "metadata": {},
   "outputs": [],
   "source": [
    "pd.options.plotting.backend = \"matplotlib\"\n",
    "# pd.options.plotting.backend = \"plotly\"\n",
    "template = \"plotly_dark\""
   ]
  },
  {
   "cell_type": "code",
   "execution_count": null,
   "metadata": {},
   "outputs": [],
   "source": [
    "def load_price_timeseries(file: str) -> pd.Series:\n",
    "    df = pd.read_csv(file)\n",
    "    df.index = pd.to_datetime(df[\"Date\"], format=\"%d/%m/%Y %H:%M\")\n",
    "    return df[\"Intraday Continuous 15 minutes ID1-Price\"]  # * 1e-6 # €/MWh -> €/Wh"
   ]
  },
  {
   "cell_type": "code",
   "execution_count": null,
   "metadata": {},
   "outputs": [],
   "source": [
    "def load_imbalance_prices(file: str) -> pd.Series:\n",
    "    df = pd.read_csv(file, sep=\";\", decimal=\",\")\n",
    "    t = pd.to_datetime(df[\"Datum\"] + \" \" + df[\"von\"], format='%d.%m.%Y %H:%M') \n",
    "    df[\"datetime\"] = pd.date_range(t.iloc[0], t.iloc[-1], freq=\"15Min\") # avoid repeated indices from daylight saving time change\n",
    "    df = df.set_index(\"datetime\")\n",
    "    return df"
   ]
  },
  {
   "cell_type": "code",
   "execution_count": null,
   "metadata": {},
   "outputs": [],
   "source": [
    "def load_results(dir):\n",
    "    res = {}\n",
    "    files = [f for f in os.listdir(dir) if f.endswith(\".parquet\")]\n",
    "    for file in files:\n",
    "        name, _ = os.path.splitext(file)\n",
    "        res[name] = pd.read_parquet(dir + file)\n",
    "\n",
    "    return res"
   ]
  },
  {
   "cell_type": "code",
   "execution_count": null,
   "metadata": {},
   "outputs": [],
   "source": [
    "def exctract_value(string, key):\n",
    "    match = re.search(fr\"{key}=([\\d.]+)\", string)\n",
    "    if match:\n",
    "        value = match.group(1)\n",
    "    return float(value)"
   ]
  },
  {
   "cell_type": "code",
   "execution_count": null,
   "metadata": {},
   "outputs": [],
   "source": [
    "def calc_fec(df):\n",
    "    power = df[\"power_sim\"]\n",
    "    power_pos = power[power > 0].sum() * (1 / 60)\n",
    "    power_neg = power[power < 0].abs().sum() * (1 / 60)\n",
    "    return (power_pos + power_neg) / 2 / 180e3"
   ]
  },
  {
   "cell_type": "code",
   "execution_count": null,
   "metadata": {},
   "outputs": [],
   "source": [
    "def calc_roundtrip_efficiency(res):\n",
    "    p = res[\"power_sim\"]\n",
    "    e_pos = p[p > 0].abs().sum() * (1 / 60)  # Wh\n",
    "    e_neg = p[p < 0].abs().sum() * (1 / 60)  # Wh\n",
    "\n",
    "    delta_soc = res[\"soc_sim\"].iloc[-1] - res[\"soc_sim\"].iloc[0]\n",
    "    delta_e = delta_soc * 180e3  # Wh\n",
    "\n",
    "    return abs(e_neg) / (e_pos - delta_e)"
   ]
  },
  {
   "cell_type": "code",
   "execution_count": null,
   "metadata": {},
   "outputs": [],
   "source": [
    "def calc_revenue(df, price):\n",
    "    price = price.resample(\"1Min\").ffill()\n",
    "    df = df.join(price)\n",
    "    return -1 * sum(df[\"power_sim\"] * df[\"Intraday Continuous 15 minutes ID1-Price\"]) * (1/60) * 1e-6  # W -> MWh"
   ]
  },
  {
   "cell_type": "code",
   "execution_count": null,
   "metadata": {},
   "outputs": [],
   "source": [
    "def calculate_imbalance_cost(df, price):\n",
    "    price = price.resample(\"1Min\").ffill()\n",
    "    df = df.join(price)\n",
    "    df[\"imb\"] = -(df[\"power_opt\"] - df[\"power_sim\"]) * (1 / 60) * 1e-6 # MWh\n",
    "    # negation since positive power is charging\n",
    "    \n",
    "    # BESS under-supply\n",
    "    df_u = df.loc[df.imb > 0]\n",
    "    cost_u = sum(df_u[\"imb\"] * df_u[\"reBAP unterdeckt\"])\n",
    "    \n",
    "    # BESS over-supply\n",
    "    df_o = df.loc[df.imb < 0]\n",
    "    cost_o = sum(df_o[\"imb\"] * df_o[\"reBAP ueberdeckt\"])\n",
    "\n",
    "    return cost_u + cost_o"
   ]
  },
  {
   "cell_type": "code",
   "execution_count": null,
   "metadata": {},
   "outputs": [],
   "source": [
    "def calc_imbalance_pos(df):\n",
    "    df[\"imb\"] = -(df[\"power_opt\"] - df[\"power_sim\"]) * (1 / 60) #* 1e-6 # MWh\n",
    "    # negation since positive power is charging\n",
    "    \n",
    "    # BESS under-supply\n",
    "    return df.loc[df.imb > 0, \"imb\"].sum()"
   ]
  },
  {
   "cell_type": "code",
   "execution_count": null,
   "metadata": {},
   "outputs": [],
   "source": [
    "def calc_imbalance_neg(df):\n",
    "    df[\"imb\"] = -(df[\"power_opt\"] - df[\"power_sim\"]) * (1 / 60) #* 1e-6 # MWh\n",
    "    # negation since positive power is charging\n",
    "    \n",
    "    # BESS over-supply\n",
    "    return df.loc[df.imb < 0, \"imb\"].sum()"
   ]
  },
  {
   "cell_type": "code",
   "execution_count": null,
   "metadata": {},
   "outputs": [],
   "source": [
    "def analyse_results_lp(res, price, price_imb):\n",
    "    out = pd.DataFrame()\n",
    "    for (id, df) in res.items():\n",
    "        if \"LP\" in id:\n",
    "            data = dict(\n",
    "                dt = exctract_value(id, \"dt\"),\n",
    "                fec_limit = exctract_value(id, \"fec\"),\n",
    "                r = exctract_value(id, \"r\"),\n",
    "                eff = exctract_value(id, \"eff\"),\n",
    "                fec = calc_fec(df),\n",
    "                rte = calc_roundtrip_efficiency(df),\n",
    "                rev = calc_revenue(df, price),\n",
    "                imb_under = calc_imbalance_pos(df),\n",
    "                imb_over = calc_imbalance_neg(df),\n",
    "            )\n",
    "            out = pd.concat([out, pd.DataFrame(data=[data])])\n",
    "\n",
    "    # out[\"total\"] = out[\"rev\"] - out[\"imb\"]\n",
    "    out[\"imb_total\"] = out[\"imb_under\"] - out[\"imb_over\"]\n",
    "\n",
    "    return out"
   ]
  },
  {
   "cell_type": "code",
   "execution_count": null,
   "metadata": {},
   "outputs": [],
   "source": [
    "def analyse_results_nl(res, price, price_imb):\n",
    "    out = pd.DataFrame()\n",
    "    for (id, df) in res.items():\n",
    "        if (\"NL\" in id) and (\"min\" not in id):\n",
    "        # if (\"NL\" in id) and (\"300\" in id):\n",
    "            data = dict(\n",
    "                dt = exctract_value(id, \"dt\"),\n",
    "                fec_limit = exctract_value(id, \"fec\"),\n",
    "                r = exctract_value(id, \"r\"),\n",
    "                r_opt = exctract_value(id, \"r_opt\"),\n",
    "                fec = calc_fec(df),\n",
    "                rte = calc_roundtrip_efficiency(df),\n",
    "                rev = calc_revenue(df, price),\n",
    "                imb_under = calc_imbalance_pos(df),\n",
    "                imb_over = calc_imbalance_neg(df),\n",
    "            )\n",
    "            out = pd.concat([out, pd.DataFrame(data=[data])])\n",
    "\n",
    "    # out[\"total\"] = out[\"rev\"] - out[\"imb\"]\n",
    "    out[\"imb_total\"] = out[\"imb_under\"] - out[\"imb_over\"]\n",
    "\n",
    "    return out"
   ]
  },
  {
   "cell_type": "code",
   "execution_count": null,
   "metadata": {},
   "outputs": [],
   "source": [
    "def plot_timeseries(df, **kwargs):\n",
    "    fig = make_subplots(rows=2, cols=1, shared_xaxes=True)\n",
    "    fig.update_layout(**kwargs)\n",
    "\n",
    "    for id in [\"soc_sim\", \"soc_opt\"]:\n",
    "        fig.add_trace(go.Scatter(x=df.index, y=df[id], name=id), row=1, col=1)\n",
    "\n",
    "    for id in [\"power_sim\", \"power_opt\"]:\n",
    "        fig.add_trace(go.Scatter(x=df.index, y=df[id], name=id), row=2, col=1)\n",
    "    \n",
    "    return fig"
   ]
  },
  {
   "cell_type": "code",
   "execution_count": null,
   "metadata": {},
   "outputs": [],
   "source": [
    "def plot_trading_power(res, price):\n",
    "    fig, ax = plt.subplots(2, 2, height_ratios=[1, 3], width_ratios=[3, 1])\n",
    "\n",
    "    price = price.resample(\"1Min\").ffill()\n",
    "    df = res.join(price)\n",
    "    power = df[\"power_sim\"] / 100e3\n",
    "    price = df[\"Intraday Continuous 15 minutes ID1-Price\"]\n",
    "\n",
    "    idx = power > 0\n",
    "    # ax.scatter(price.loc[idx], power.loc[idx])\n",
    "    ax[1, 0].scatter(power.loc[idx], price.loc[idx], alpha=0.5)\n",
    "    ax[0, 0].hist(power.loc[idx], alpha=0.5, label=\"Charge\")\n",
    "    ax[1, 1].hist(price.loc[idx], orientation=\"horizontal\", alpha=0.5)\n",
    "\n",
    "    idx = power < 0\n",
    "    # ax.scatter(price.loc[idx], power.loc[idx])\n",
    "    ax[1, 0].scatter(power.loc[idx], price.loc[idx], alpha=0.5)\n",
    "    ax[0, 0].hist(power.loc[idx], alpha=0.5, label=\"Discharge\")\n",
    "    ax[1, 1].hist(price.loc[idx], orientation=\"horizontal\", alpha=0.5)\n",
    "\n",
    "    ax[0, 1].set_visible(False)\n",
    "    ax[0, 0].xaxis.set_visible(False)\n",
    "    ax[1, 1].yaxis.set_visible(False)\n",
    "\n",
    "    # ax[0,0].set_ylabel(\"Hist\")\n",
    "    # ax[1,1].set_xlabel(\"Hist\")\n",
    "    ax[1, 0].set_xlabel(\"Power in p.u.\")\n",
    "    ax[1, 0].set_ylabel(\"Price in €/MWh\")\n",
    "\n",
    "    fig.tight_layout(h_pad=0.1, w_pad=0.5)\n",
    "\n",
    "    fig.legend(loc=\"center\", bbox_to_anchor=(0.87, 0.85))\n",
    "\n",
    "    return fig"
   ]
  },
  {
   "cell_type": "code",
   "execution_count": null,
   "metadata": {},
   "outputs": [],
   "source": [
    "def plot_eff_rev(df_lp, df_nl):\n",
    "    fig, ax = plt.subplots()\n",
    "    max_rev = 1 #max(df_lp[\"rev\"].max(), df_nl[\"rev\"].max())\n",
    "    ax.scatter(df_lp[\"rte\"], df_lp[\"rev\"] / max_rev, label=\"LP\")\n",
    "    ax.scatter(df_nl[\"rte\"], df_nl[\"rev\"] / max_rev, label=\"NL\")\n",
    "    ax.legend()\n",
    "    return fig"
   ]
  },
  {
   "cell_type": "code",
   "execution_count": null,
   "metadata": {},
   "outputs": [],
   "source": [
    "def plot_imb(df_lp, df_nl):\n",
    "    fig, ax = plt.subplots()\n",
    "\n",
    "    r_values = df_lp['r'].unique()\n",
    "    x = np.arange(len(r_values))\n",
    "    bar_width = 0.35\n",
    "\n",
    "    ax.bar(x - bar_width/2, df_lp['imb_under'] * 1e-3, width=bar_width, label='LP - over')\n",
    "    ax.bar(x - bar_width/2, df_lp['imb_over'] * 1e-3, width=bar_width, label='LP - under')\n",
    "    ax.bar(x + bar_width/2, df_nl['imb_under'] * 1e-3, width=bar_width, label='NL - over')\n",
    "    ax.bar(x + bar_width/2, df_nl['imb_over'] * 1e-3, width=bar_width, label='NL - under')\n",
    "#\n",
    "    # ax.set_ylim(0.85, 1.02)\n",
    "    ax.set_xticks(x)\n",
    "    ax.set_xticklabels(r_values)\n",
    "    ax.set_xlabel(\"SOH-R\")\n",
    "    ax.set_ylabel(\"Imbalance energy in kWh\")\n",
    "    ax.legend(title=\"Model\")\n",
    "\n",
    "    return fig"
   ]
  },
  {
   "cell_type": "code",
   "execution_count": null,
   "metadata": {},
   "outputs": [],
   "source": [
    "price_2019 = load_price_timeseries(\"data/intraday_prices/electricity_prices_germany_2019.csv\")\n",
    "price_2021 = load_price_timeseries(\"data/intraday_prices/electricity_prices_germany_2021.csv\")\n",
    "price_2022 = load_price_timeseries(\"data/intraday_prices/electricity_prices_germany_2022.csv\")"
   ]
  },
  {
   "cell_type": "code",
   "execution_count": null,
   "metadata": {},
   "outputs": [],
   "source": [
    "imb_2021 = load_imbalance_prices(\"data/balancing_energy_prices/reBAP_2021.csv\")\n",
    "imb_2022 = load_imbalance_prices(\"data/balancing_energy_prices/reBAP_2022.csv\")"
   ]
  },
  {
   "cell_type": "code",
   "execution_count": null,
   "metadata": {},
   "outputs": [],
   "source": [
    "dir = \"results/dae-3/\"\n",
    "res = load_results(dir)\n",
    "\n",
    "res_2021 = {key: value for key, value in res.items() if \"2021\" in key}\n",
    "# res_2021 = {key: value for key, value in res.items() if \"dt=60\" in key}\n",
    "\n",
    "df_lp_2021 = analyse_results_lp(res_2021, price_2021, imb_2021)\n",
    "df_nl_2021 = analyse_results_nl(res_2021, price_2021, imb_2021)"
   ]
  },
  {
   "cell_type": "code",
   "execution_count": null,
   "metadata": {},
   "outputs": [],
   "source": [
    "fig = plot_eff_rev(df_lp_2021, df_nl_2021)"
   ]
  },
  {
   "cell_type": "code",
   "execution_count": null,
   "metadata": {},
   "outputs": [],
   "source": [
    "fig = plot_eff_rev(df_lp_2021[df_lp_2021.eff == 0.95], df_nl_2021[df_nl_2021.r_opt == 1.0])"
   ]
  },
  {
   "cell_type": "code",
   "execution_count": null,
   "metadata": {},
   "outputs": [],
   "source": [
    "df_nl_2021[(df_nl_2021.r == 1.0) & (df_nl_2021.dt == 180)].plot.scatter(x=\"r_opt\", y=\"rev\")"
   ]
  },
  {
   "cell_type": "code",
   "execution_count": null,
   "metadata": {},
   "outputs": [],
   "source": [
    "def plot_imb_power(df_lp, df_nl):\n",
    "    # df_lp = res[\"2021 LP fec=1.5 r=1.0 eff=0.95\"]\n",
    "    df_lp[\"imb\"] = -(df_lp[\"power_opt\"] - df_lp[\"power_sim\"])\n",
    "\n",
    "    # df_nl = res[\"2021 NL fec=1.5 r=1.0 r_opt=1.0 dt=900\"]\n",
    "    df_nl[\"imb\"] = -(df_nl[\"power_opt\"] - df_nl[\"power_sim\"])\n",
    "\n",
    "    fig, ax = plt.subplots()\n",
    "    ax.plot(df_lp.index, df_lp[\"imb\"] / 180e3, label=\"LP\", alpha=0.8)\n",
    "    ax.plot(df_lp.index, df_nl[\"imb\"] / 180e3, label=\"NL\", alpha=0.8)\n",
    "    ax.legend(loc=\"upper right\", title=\"Model\")\n",
    "    ax.set_ylabel(\"Imbalance power in p.u.\")\n",
    "\n",
    "    return fig"
   ]
  },
  {
   "cell_type": "code",
   "execution_count": null,
   "metadata": {},
   "outputs": [],
   "source": [
    "def plot_diff(price, *dfs, **kwargs):\n",
    "    fig = make_subplots(rows=4, cols=1, shared_xaxes=True)\n",
    "    fig.update_layout(**kwargs)\n",
    "\n",
    "    price = price.resample(\"1min\").ffill()\n",
    "    fig.add_trace(go.Scatter(x=price.index, y=price.values, line_shape=\"hv\", name=\"price\"), row=1, col=1)\n",
    "\n",
    "    for (i, df) in enumerate(dfs):\n",
    "        fig.add_trace(go.Scatter(x=df.index, y=df[\"power_opt\"], name=f\"power {i}\"), row=2, col=1)    \n",
    "\n",
    "    for (i, df) in enumerate(dfs):\n",
    "        fig.add_trace(go.Scatter(x=df.index, y=df[\"soc_opt\"], name=f\"soc {i}\"), row=3, col=1)\n",
    "\n",
    "    for (i, df) in enumerate(dfs):\n",
    "        df = df.join(price)\n",
    "        rev = -(df[\"power_sim\"] * df[\"Intraday Continuous 15 minutes ID1-Price\"]).cumsum() * (1/60) * 1e-6  # W -> MWh\n",
    "        fig.add_trace(go.Scatter(x=df.index, y=rev, name=f\"rev {i}\"), row=4, col=1)\n",
    "\n",
    "    return fig"
   ]
  },
  {
   "cell_type": "code",
   "execution_count": null,
   "metadata": {},
   "outputs": [],
   "source": [
    "plot_diff(\n",
    "    price_2021.loc[\"2021-01-01\":\"2021-01-07\"],\n",
    "# res_2021[\"2021 LP fec=1.5 r=3.0 eff=0.94 dt=300\"].loc[\"2021-01-01\":\"2021-01-07\"],\n",
    "res_2021[\"2021 LP fec=1.5 r=3.0 eff=0.94 dt=180\"].loc[\"2021-01-01\":\"2021-01-07\"],\n",
    "res_2021[\"2021 LP fec=1.5 r=3.0 eff=0.94 dt=60\"].loc[\"2021-01-01\":\"2021-01-07\"],\n",
    "# res_2021[\"2021 NL fec=1.5 r=3.0 r_opt=1.0 dt=300\"].loc[\"2021-01-01\":\"2021-01-07\"],\n",
    "# res_2021[\"2021 NL fec=1.5 r=3.0 r_opt=1.0 dt=180\"].loc[\"2021-01-01\":\"2021-01-07\"],\n",
    "# res_2021[\"2021 NL fec=1.5 r=3.0 r_opt=1.0 dt=60\"].loc[\"2021-01-01\":\"2021-01-07\"],\n",
    "template=template,\n",
    "height=1200\n",
    ")"
   ]
  }
 ],
 "metadata": {
  "kernelspec": {
   "display_name": ".venv",
   "language": "python",
   "name": "python3"
  },
  "language_info": {
   "codemirror_mode": {
    "name": "ipython",
    "version": 3
   },
   "file_extension": ".py",
   "mimetype": "text/x-python",
   "name": "python",
   "nbconvert_exporter": "python",
   "pygments_lexer": "ipython3",
   "version": "3.13.2"
  }
 },
 "nbformat": 4,
 "nbformat_minor": 2
}
