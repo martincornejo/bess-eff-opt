{
 "cells": [
  {
   "cell_type": "code",
   "execution_count": null,
   "metadata": {},
   "outputs": [],
   "source": [
    "import pandas as pd\n",
    "import numpy as np"
   ]
  },
  {
   "cell_type": "code",
   "execution_count": null,
   "metadata": {},
   "outputs": [],
   "source": [
    "from plotly.subplots import make_subplots\n",
    "import plotly.graph_objects as go"
   ]
  },
  {
   "cell_type": "code",
   "execution_count": null,
   "metadata": {},
   "outputs": [],
   "source": [
    "pd.options.plotting.backend = \"matplotlib\"\n",
    "template = \"plotly_dark\""
   ]
  },
  {
   "cell_type": "code",
   "execution_count": null,
   "metadata": {},
   "outputs": [],
   "source": [
    "# %%\n",
    "def load_price_timeseries(file: str) -> pd.Series:\n",
    "    df = pd.read_csv(file)\n",
    "    df.index = pd.to_datetime(df[\"Date\"], format=\"%d/%m/%Y %H:%M\")\n",
    "    return df[\"Intraday Continuous 15 minutes ID1-Price\"]  # * 1e-6 # €/MWh -> €/Wh\n"
   ]
  },
  {
   "cell_type": "code",
   "execution_count": null,
   "metadata": {},
   "outputs": [],
   "source": [
    "def calc_throughput(df):\n",
    "    power = df[\"power_sim\"]\n",
    "    power_pos = power[power > 0].sum() * 0.25\n",
    "    power_neg = power[power < 0].abs().sum() * 0.25\n",
    "    return (power_pos + power_neg) / 2 / 180e3"
   ]
  },
  {
   "cell_type": "code",
   "execution_count": null,
   "metadata": {},
   "outputs": [],
   "source": [
    "def calc_roundtrip_efficiency(res):\n",
    "    p = res[\"power_sim\"]\n",
    "    e_pos = p[p > 0].abs().sum() * 0.25  # Wh\n",
    "    e_neg = p[p < 0].abs().sum() * 0.25  # Wh\n",
    "\n",
    "    delta_soc = res[\"soc_sim\"].iloc[-1] - res[\"soc_sim\"].iloc[0]\n",
    "    delta_e = delta_soc * 180e3  # Wh\n",
    "\n",
    "    return np.abs(e_neg) / (e_pos - delta_e)"
   ]
  },
  {
   "cell_type": "code",
   "execution_count": null,
   "metadata": {},
   "outputs": [],
   "source": [
    "def calc_revenue(res, price):\n",
    "    df = res.join(price)\n",
    "    return -1 * sum(df[\"power_sim\"] * df[\"Intraday Continuous 15 minutes ID1-Price\"]) * 0.25 * 1e-6  # W -> MWh"
   ]
  },
  {
   "cell_type": "code",
   "execution_count": null,
   "metadata": {},
   "outputs": [],
   "source": [
    "price = load_price_timeseries(\"data/intraday_prices/electricity_prices_germany_2021.csv\")\n",
    "# price.index.name = \"time\""
   ]
  },
  {
   "cell_type": "code",
   "execution_count": null,
   "metadata": {},
   "outputs": [],
   "source": [
    "df_lp95 = pd.read_parquet(\"results/eff95/2021 LP r=1.0 fec=2.0.parquet\", engine=\"pyarrow\")\n",
    "df_lp96 = pd.read_parquet(\"results/2021 LP r=1.0 fec=2.0.parquet\", engine=\"pyarrow\")\n",
    "df_nl = pd.read_parquet(\"results/eff95/2021 NL r=1.0 fec=2.0.parquet\", engine=\"pyarrow\")"
   ]
  },
  {
   "cell_type": "code",
   "execution_count": null,
   "metadata": {},
   "outputs": [],
   "source": [
    "l_batt_nl = float(df_nl[\"battery_losses\"].sum()) * 0.25 * 1e-3\n",
    "l_conv_nl = float(df_nl[\"converter_losses\"].sum()) * 0.25 * 1e-3\n",
    "print(f\"{l_batt_nl=:.2f}\")\n",
    "print(f\"{l_conv_nl=:.2f}\")\n",
    "print(f\"{l_batt_nl + l_conv_nl:.2f}\")"
   ]
  },
  {
   "cell_type": "code",
   "execution_count": null,
   "metadata": {},
   "outputs": [],
   "source": [
    "l_batt_lp = float(df_lp[\"battery_losses\"].sum()) * 0.25 * 1e-3\n",
    "l_conv_lp = float(df_lp[\"converter_losses\"].sum()) * 0.25 * 1e-3\n",
    "print(f\"{l_batt_lp=:.2f}\")\n",
    "print(f\"{l_conv_lp=:.2f}\")\n",
    "print(f\"{l_batt_lp + l_conv_lp:.2f}\")"
   ]
  },
  {
   "cell_type": "code",
   "execution_count": null,
   "metadata": {},
   "outputs": [],
   "source": [
    "df_lp = df_lp95\n",
    "\n",
    "fec_lp = calc_throughput(df_lp)\n",
    "fec_nl = calc_throughput(df_nl)\n",
    "print(f\"{fec_lp=:.1f}\")\n",
    "print(f\"{fec_nl=:.1f} ({fec_nl/fec_lp - 1:+.2%})\")\n",
    "print(\"\")\n",
    "\n",
    "eff_lp = calc_roundtrip_efficiency(df_lp)\n",
    "eff_nl = calc_roundtrip_efficiency(df_nl)\n",
    "print(f\"{eff_lp=:.1%}\")\n",
    "print(f\"{eff_nl=:.1%} ({(eff_nl - eff_lp):+.2%})\")\n",
    "print(\"\")\n",
    "\n",
    "rev_lp = calc_revenue(df_lp, price)\n",
    "rev_nl = calc_revenue(df_nl, price)\n",
    "print(f\"{rev_lp=:.1f} €\")\n",
    "print(f\"{rev_nl=:.1f} € ({rev_nl/rev_lp - 1:+.2%})\")"
   ]
  },
  {
   "cell_type": "code",
   "execution_count": null,
   "metadata": {},
   "outputs": [],
   "source": [
    "df_lp = df_lp96\n",
    "\n",
    "fec_lp = calc_throughput(df_lp)\n",
    "fec_nl = calc_throughput(df_nl)\n",
    "print(f\"{fec_lp=:.1f}\")\n",
    "print(f\"{fec_nl=:.1f} ({fec_nl/fec_lp - 1:+.2%})\")\n",
    "print(\"\")\n",
    "\n",
    "eff_lp = calc_roundtrip_efficiency(df_lp)\n",
    "eff_nl = calc_roundtrip_efficiency(df_nl)\n",
    "print(f\"{eff_lp=:.1%}\")\n",
    "print(f\"{eff_nl=:.1%} ({(eff_nl - eff_lp):+.2%})\")\n",
    "print(\"\")\n",
    "\n",
    "rev_lp = calc_revenue(df_lp, price)\n",
    "rev_nl = calc_revenue(df_nl, price)\n",
    "print(f\"{rev_lp=:.1f} €\")\n",
    "print(f\"{rev_nl=:.1f} € ({rev_nl/rev_lp - 1:+.2%})\")\n",
    "print(\"\")"
   ]
  },
  {
   "cell_type": "code",
   "execution_count": null,
   "metadata": {},
   "outputs": [],
   "source": [
    "def plot_timeseries(df, **kwargs):\n",
    "    fig = make_subplots(rows=2, cols=1, shared_xaxes=True)\n",
    "    fig.update_layout(**kwargs)\n",
    "\n",
    "    for id in [\"soc_sim\", \"soc_opt\"]:\n",
    "        fig.add_trace(go.Scatter(x=df.index, y=df[id], name=id), row=1, col=1)\n",
    "\n",
    "    for id in [\"power_sim\", \"power_opt\"]:\n",
    "        fig.add_trace(go.Scatter(x=df.index, y=df[id], name=id), row=2, col=1)\n",
    "    \n",
    "    return fig\n"
   ]
  },
  {
   "cell_type": "code",
   "execution_count": null,
   "metadata": {},
   "outputs": [],
   "source": [
    "plot_timeseries(df_nl, height=800, template=template)"
   ]
  },
  {
   "cell_type": "code",
   "execution_count": null,
   "metadata": {},
   "outputs": [],
   "source": [
    "plot_timeseries(df_lp, height=800, template=template)"
   ]
  },
  {
   "cell_type": "code",
   "execution_count": null,
   "metadata": {},
   "outputs": [],
   "source": [
    "def calc_roundtrip_efficiency(res):\n",
    "    p = res[\"power_sim\"]\n",
    "    e_pos = p[p > 0].abs().sum()  # Wh\n",
    "    l_pos = res.loc[p > 0, \"converter_losses\"].sum() + res.loc[p > 0, \"battery_losses\"].sum()\n",
    "    eff_pos = (e_pos - l_pos) / (e_pos)\n",
    "    \n",
    "    e_neg = p[p < 0].abs().sum()  # Wh\n",
    "    l_neg = res.loc[p < 0, \"converter_losses\"].sum() + res.loc[p < 0, \"battery_losses\"].sum()\n",
    "    eff_neg = (e_neg - l_neg) / (e_neg)\n",
    "    # e_neg = p[p < 0].abs().sum() * 0.25  # Wh\n",
    "\n",
    "    # delta_soc = res[\"soc_sim\"].iloc[-1] - res[\"soc_sim\"].iloc[0]\n",
    "    # delta_e = delta_soc * 180e3  # Wh\n",
    "\n",
    "    # return np.abs(e_neg) / (e_pos - delta_e)\n",
    "    return eff_pos * eff_neg"
   ]
  },
  {
   "cell_type": "code",
   "execution_count": null,
   "metadata": {},
   "outputs": [],
   "source": [
    "eff_lp = calc_roundtrip_efficiency(df_lp)\n",
    "eff_nl = calc_roundtrip_efficiency(df_nl)\n",
    "print(f\"{eff_lp=:.2%}\")\n",
    "print(f\"{eff_nl=:.2%} ({(eff_nl - eff_lp):+.2%})\")"
   ]
  },
  {
   "cell_type": "code",
   "execution_count": null,
   "metadata": {},
   "outputs": [],
   "source": []
  }
 ],
 "metadata": {
  "kernelspec": {
   "display_name": ".venv",
   "language": "python",
   "name": "python3"
  },
  "language_info": {
   "codemirror_mode": {
    "name": "ipython",
    "version": 3
   },
   "file_extension": ".py",
   "mimetype": "text/x-python",
   "name": "python",
   "nbconvert_exporter": "python",
   "pygments_lexer": "ipython3",
   "version": "3.13.0"
  }
 },
 "nbformat": 4,
 "nbformat_minor": 2
}
